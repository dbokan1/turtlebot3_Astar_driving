{
  "cells": [
    {
      "cell_type": "code",
      "execution_count": 1,
      "metadata": {
        "id": "m7-hpBTAlfF6"
      },
      "outputs": [],
      "source": [
        "import cv2\n",
        "from google.colab.patches import cv2_imshow\n",
        "import numpy as np\n",
        "\n",
        "def image_to_matrix(image):\n",
        "    # Get the dimensions of the image\n",
        "    rows, cols = len(image), len(image[0])\n",
        "    resized_image_grayScale = cv2.cvtColor(image, cv2.COLOR_BGR2GRAY)\n",
        "    image_list = resized_image_grayScale.tolist()\n",
        "\n",
        "    # Create an empty matrix (list of lists) to store the binary representation of the image\n",
        "    matrix = [[0 for _ in range(cols)] for _ in range(rows)]\n",
        "\n",
        "    # Go through each pixel in the image\n",
        "    for y in range(rows):\n",
        "        for x in range(cols):\n",
        "            # Check if the pixel is black (pixel value = 0)\n",
        "            if image_list[y][x] == 0:\n",
        "                matrix[y][x] = 1  # Set the corresponding element in the matrix to 1\n",
        "\n",
        "    return matrix"
      ]
    },
    {
      "cell_type": "code",
      "execution_count": null,
      "metadata": {
        "colab": {
          "base_uri": "https://localhost:8080/",
          "height": 387
        },
        "id": "iwqJwtP4D951",
        "outputId": "dec0ab96-a81c-4bb8-b2b1-ed04d21e9efd"
      },
      "outputs": [
        {
          "data": {
            "image/png": "[encoded data removed]",
            "text/plain": [
              "<PIL.Image.Image image mode=RGB size=109x109>"
            ]
          },
          "metadata": {},
          "output_type": "display_data"
        },
        {
          "name": "stdout",
          "output_type": "stream",
          "text": [
            "(90, 60)\n",
            "(89, 59)\n",
            "(88, 59)\n",
            "(85, 56)\n",
            "(69, 56)\n",
            "(66, 53)\n",
            "(66, 49)\n",
            "(51, 34)\n",
            "(46, 34)\n",
            "(36, 24)\n",
            "(36, 22)\n",
            "(35, 21)\n",
            "(22, 21)\n",
            "(21, 20)\n",
            "(20, 20)\n"
          ]
        }
      ],
      "source": [
        "import math\n",
        "import heapq\n",
        "import cv2\n",
        "\n",
        "def euclidean_distance(start, goal):\n",
        "    return math.sqrt((goal[0] - start[0])**2 + (goal[1] - start[1])**2)\n",
        "\n",
        "def get_neighbors(node, grid):\n",
        "    neighbors = []\n",
        "    directions = [(1, 0), (-1, 0), (0, 1), (0, -1), (1, 1), (1, -1), (-1, 1), (-1, -1)]\n",
        "\n",
        "    for dir_x, dir_y in directions:\n",
        "        neighbor_x = node[0] + dir_x\n",
        "        neighbor_y = node[1] + dir_y\n",
        "\n",
        "        if 0 <= neighbor_x < len(grid) and 0 <= neighbor_y < len(grid[0]) and grid[neighbor_x][neighbor_y] == 0:\n",
        "            neighbors.append((neighbor_x, neighbor_y))\n",
        "\n",
        "    return neighbors\n",
        "\n",
        "def print_path_to_file(path, grid, file_path):\n",
        "    with open(file_path, \"w\") as f:\n",
        "        f.write(\"{\")\n",
        "        for i in range(len(grid)):\n",
        "            f.write(\"{\")\n",
        "            for j in range(len(grid[0])):\n",
        "                if (i, j) in path:\n",
        "                    f.write(\"4\")\n",
        "                else:\n",
        "                    f.write(str(grid[i][j]))\n",
        "                if j < len(grid[0]) - 1:\n",
        "                    f.write(\", \")\n",
        "            f.write(\"}\")\n",
        "            if i < len(grid) - 1:\n",
        "                f.write(\",\\n\")\n",
        "        f.write(\"};\\n\")\n",
        "\n",
        "def append_path_to_grid(path, grid):\n",
        "  for i in range(len(grid)):\n",
        "    for j in range(len(grid[0])):\n",
        "      if (i, j) in path:\n",
        "        grid[i][j] = 4\n",
        "\n",
        "def a_star(grid, start, goal):\n",
        "    open_list = [(0, start)]\n",
        "    came_from = {}\n",
        "    g_score = {start: 0}\n",
        "    f_score = {start: euclidean_distance(start, goal)}\n",
        "\n",
        "    while open_list:\n",
        "        _, current = heapq.heappop(open_list)\n",
        "\n",
        "        if current == goal:\n",
        "            path = []\n",
        "            while current in came_from:\n",
        "                path.append(current)\n",
        "                current = came_from[current]\n",
        "            path.append(start)\n",
        "            return path[::-1]\n",
        "\n",
        "        for neighbor in get_neighbors(current, grid):\n",
        "            tentative_g_score = g_score[current] + euclidean_distance(current, neighbor)\n",
        "\n",
        "            if neighbor not in g_score or tentative_g_score < g_score[neighbor]:\n",
        "                came_from[neighbor] = current\n",
        "                g_score[neighbor] = tentative_g_score\n",
        "                f_score[neighbor] = tentative_g_score + euclidean_distance(neighbor, goal)\n",
        "                heapq.heappush(open_list, (f_score[neighbor], neighbor))\n",
        "\n",
        "    return None\n",
        "\n",
        "def read_list_from_file(file_path):\n",
        "    with open(file_path, 'r') as file:\n",
        "        lines = file.readlines()\n",
        "\n",
        "    # Convert each line to an integer and store it in a list\n",
        "    numbers_list = [int(line.strip()) for line in lines]\n",
        "\n",
        "    return numbers_list\n",
        "\n",
        "def find_points(grid, start_point, end_point, list_of_points):\n",
        "  current_point = start_point\n",
        "  previous_point = (0,0)\n",
        "  list_of_points.append(start_point)\n",
        "\n",
        "  flag = 0\n",
        "  while(current_point != end_point):\n",
        "    flag = 0\n",
        "    for i in range(current_point[0] - 1, current_point[0] + 2):\n",
        "      for j in range(current_point[1] - 1, current_point[1] + 2):\n",
        "        #print(i, j)\n",
        "        if grid[i][j] == 4 and (i,j) != previous_point and current_point != (i,j):\n",
        "          previous_point = current_point\n",
        "          current_point = (i,j)\n",
        "          list_of_points.append(current_point)\n",
        "          flag = 1\n",
        "          break\n",
        "      #print(\"\\n\")\n",
        "      if flag:\n",
        "        break\n",
        "\n",
        "def get_direction(x1, y1, x2, y2):\n",
        "    direction_dict = {\n",
        "        (0, 1): \"Right\",\n",
        "        (0, -1): \"Left\",\n",
        "        (1, 0): \"Down\",\n",
        "        (-1, 0): \"Up\",\n",
        "        (1, 1): \"Down-Right\",\n",
        "        (-1, -1): \"Up-Left\",\n",
        "        (-1, 1): \"Up-Right\",\n",
        "        (1, -1): \"Down-Left\",\n",
        "    }\n",
        "\n",
        "    dx = x2 - x1\n",
        "    dy = y2 - y1\n",
        "\n",
        "    direction = direction_dict.get((dx, dy), \"Unknown\")\n",
        "    return direction\n",
        "\n",
        "def find_boundary_points(points):\n",
        "    segements = []\n",
        "\n",
        "    start_point = points[0]\n",
        "    next_point = points[1]\n",
        "    segements.append(start_point)\n",
        "\n",
        "    previous_dir = \"Unknown\"\n",
        "    dir = get_direction(start_point[0], start_point[1], next_point[0], next_point[1])\n",
        "\n",
        "    i = 1\n",
        "    while(i < len(points) - 1):\n",
        "\n",
        "        previous_dir = dir\n",
        "\n",
        "        start_point = points[i]\n",
        "        next_point = points[i+1]\n",
        "\n",
        "        dir = get_direction(start_point[0], start_point[1], next_point[0], next_point[1])\n",
        "\n",
        "        if previous_dir == dir:\n",
        "           i += 1\n",
        "        else:\n",
        "           segements.append(start_point)\n",
        "           i += 1\n",
        "\n",
        "    segements.append(points[len(points) - 1])\n",
        "    return segements\n",
        "\n",
        "if __name__ == \"__main__\":\n",
        "    # Example usage\n",
        "    input_image_path = \"/content/map_cropped_padded.png\"\n",
        "    image = cv2.imread(input_image_path)\n",
        "    grid = image_to_matrix(image)\n",
        "    start=(90,60)\n",
        "    goal=(20,20)\n",
        "\n",
        "    path = a_star(grid, start, goal)\n",
        "    list = []\n",
        "\n",
        "    if path:\n",
        "      for pair in path:\n",
        "        image[pair[0],pair[1]]=100\n",
        "      cv2_imshow(image)\n",
        "      cv2.waitKey(0)\n",
        "      cv2.destroyAllWindows()\n",
        "\n",
        "      append_path_to_grid(path, grid)\n",
        "      find_points(grid, start, goal, list)\n",
        "      segments = find_boundary_points(list)\n",
        "\n",
        "      for segment in segments:\n",
        "        print(segment)\n",
        "\n",
        "    else:\n",
        "        print(\"No path found.\")"
      ]
    },
    {
      "cell_type": "markdown",
      "source": [
        "Mapiranje iz world koordinata simulatora u pixel space slike. Veza dva koordinatna sistema:\n",
        "- smjerovi x i y koordinata su obrnuti u dva sistema tako da pri mapiranju moramo ih obrnuti/pomnoziti sa -1\n",
        "- Koordinatno ishodiste u pixel spaceu slike je u gornjem lijevom cosku, dok u real world sistemu simulatora je u sredisnjem stubu cije su piksel koordinate (50,50), te je potrebno oduzeti 50,50 u cilju translacije ishodista da se poklope.\n",
        "- Slika je dobivena koristenjem gmappinga sa rezolucijom od 0.05, sto znaci da jedan piksel odgovara 0.05 m u sistemu simulatora. Mnozimo sa tom proporcijom da prebacimo u sistem simulatora."
      ],
      "metadata": {
        "id": "_DBphBWypLwI"
      }
    },
    {
      "cell_type": "code",
      "execution_count": null,
      "metadata": {
        "colab": {
          "base_uri": "https://localhost:8080/"
        },
        "id": "M5l2AKRSsUb4",
        "outputId": "0d510420-3700-4ea1-8aba-3aa93239a7b6"
      },
      "outputs": [
        {
          "name": "stdout",
          "output_type": "stream",
          "text": [
            "[(-2.0, -0.5), (-1.9500000000000002, -0.45), (-1.9000000000000001, -0.45), (-1.75, -0.30000000000000004), (-0.9500000000000001, -0.30000000000000004), (-0.8, -0.15000000000000002), (-0.8, 0.05), (-0.05, 0.8), (0.2, 0.8), (0.7000000000000001, 1.3), (0.7000000000000001, 1.4000000000000001), (0.75, 1.4500000000000002), (1.4000000000000001, 1.4500000000000002), (1.4500000000000002, 1.5), (1.5, 1.5)]\n"
          ]
        }
      ],
      "source": [
        "tacke=[(90, 60),\n",
        "(89, 59),\n",
        "(88, 59),\n",
        "(85, 56),\n",
        "(69, 56),\n",
        "(66, 53),\n",
        "(66, 49),\n",
        "(51, 34),\n",
        "(46, 34),\n",
        "(36, 24),\n",
        "(36, 22),\n",
        "(35, 21),\n",
        "(22, 21),\n",
        "(21, 20),\n",
        "(20, 20)]\n",
        "\n",
        "# Mapiranje iz piksel u sistem simulatora po gornjim koracima\n",
        "w_tacke=[((-x+50)*0.05,(-y+50)*0.05) for x,y in tacke]\n",
        "print(w_tacke)"
      ]
    },
    {
      "cell_type": "code",
      "execution_count": null,
      "metadata": {
        "colab": {
          "base_uri": "https://localhost:8080/"
        },
        "id": "Gi--g4dSbymv",
        "outputId": "b4bad2fd-743b-47dc-85d1-590da3070c48"
      },
      "outputs": [
        {
          "name": "stdout",
          "output_type": "stream",
          "text": [
            "109\n",
            "[array([90., 60.]), array([89., 60.]), array([88., 60.]), array([87., 60.]), array([87., 59.]), array([86., 59.]), array([85., 58.]), array([84., 58.]), array([84., 57.]), array([83., 57.]), array([82., 57.]), array([81., 57.]), array([80., 57.]), array([79., 57.]), array([78., 57.]), array([77., 57.]), array([76., 57.]), array([75., 57.]), array([74., 57.]), array([73., 57.]), array([72., 57.]), array([72., 56.]), array([71., 56.]), array([70., 56.]), array([69., 56.]), array([68., 56.]), array([68., 55.]), array([67., 55.]), array([66., 55.]), array([66., 54.]), array([66., 53.]), array([65., 53.]), array([65., 52.]), array([65., 51.]), array([64., 51.]), array([64., 50.]), array([64., 49.]), array([63., 49.]), array([63., 48.]), array([63., 47.]), array([62., 47.]), array([62., 46.]), array([61., 46.]), array([61., 45.]), array([60., 45.]), array([60., 44.]), array([59., 44.]), array([59., 43.]), array([58., 43.]), array([58., 42.]), array([57., 42.]), array([57., 41.]), array([56., 41.]), array([56., 40.]), array([55., 39.]), array([55., 38.]), array([54., 38.]), array([54., 37.]), array([53., 37.]), array([53., 36.]), array([52., 36.]), array([52., 35.]), array([51., 35.]), array([51., 34.]), array([50., 34.]), array([49., 34.]), array([48., 34.]), array([48., 33.]), array([48., 34.]), array([48., 33.]), array([47., 33.]), array([48., 33.]), array([47., 33.]), array([46., 33.]), array([46., 32.]), array([45., 32.]), array([45., 31.]), array([44., 31.]), array([44., 30.]), array([43., 30.]), array([43., 29.]), array([42., 29.]), array([42., 28.]), array([41., 28.]), array([41., 27.]), array([40., 27.]), array([40., 26.]), array([39., 26.]), array([39., 25.]), array([38., 25.]), array([38., 24.]), array([37., 24.]), array([37., 23.]), array([36., 23.]), array([36., 22.]), array([35., 22.]), array([34., 22.]), array([33., 22.]), array([32., 22.]), array([31., 22.]), array([31., 21.]), array([30., 21.]), array([29., 21.]), array([28., 21.]), array([27., 21.]), array([26., 21.]), array([25., 21.]), array([24., 21.]), array([23., 21.])]\n"
          ]
        }
      ],
      "source": [
        "import numpy as np\n",
        "xorig=np.load('/content/putanja.npy', allow_pickle=True)\n",
        "\n",
        "# Prebacivanje iz putanje sistema simulatora u piksel koordinate\n",
        "novetacke=[[-(x/0.05 -50),-(y/0.05 -50)] for x,y in xorig]\n",
        "\n",
        "# Odbacivanje decimala jer su pixel koordinate intovi\n",
        "x=np.around(novetacke,0)\n",
        "\n",
        "# Eliminisanje viska tacaka sa istim koordinatama\n",
        "noviniz=[]\n",
        "for i in range(len(x)-1):\n",
        "  if x[i+1][0]==x[i][0] and x[i+1][1]==x[i][1]:\n",
        "    continue\n",
        "  noviniz.append(x[i])\n",
        "\n",
        "print(len(noviniz))\n",
        "print(noviniz)"
      ]
    }
  ],
  "metadata": {
    "colab": {
      "provenance": []
    },
    "kernelspec": {
      "display_name": "Python 3",
      "name": "python3"
    },
    "language_info": {
      "name": "python"
    }
  },
  "nbformat": 4,
  "nbformat_minor": 0
}